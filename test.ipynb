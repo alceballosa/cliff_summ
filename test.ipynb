{
 "cells": [
  {
   "cell_type": "code",
   "execution_count": 1,
   "metadata": {},
   "outputs": [],
   "source": [
    "from transformers import BartTokenizer"
   ]
  },
  {
   "cell_type": "code",
   "execution_count": 2,
   "metadata": {},
   "outputs": [
    {
     "data": {
      "text/plain": [
       "\"A lot of Shakespeare fans will tell you that the Bard's work is one of the best written in the world.</s>\""
      ]
     },
     "execution_count": 2,
     "metadata": {},
     "output_type": "execute_result"
    }
   ],
   "source": [
    "tokens = [250,   319,     9, 16538,   841,    40,  1137,    47,    14,     5,\n",
    "        23049,    18,   173,    16,    65,     9,     5,   275,  1982,    11,\n",
    "            5,   232,     4,     2]\n",
    "tokenizer = BartTokenizer.from_pretrained('facebook/bart-large')\n",
    "tokenizer.decode(tokens)"
   ]
  },
  {
   "cell_type": "code",
   "execution_count": null,
   "metadata": {},
   "outputs": [],
   "source": [
    "# zip files\n",
    "!zip -r /content/file.zip /content/"
   ]
  }
 ],
 "metadata": {
  "kernelspec": {
   "display_name": "Python 3.9.15 ('fairseq')",
   "language": "python",
   "name": "python3"
  },
  "language_info": {
   "codemirror_mode": {
    "name": "ipython",
    "version": 3
   },
   "file_extension": ".py",
   "mimetype": "text/x-python",
   "name": "python",
   "nbconvert_exporter": "python",
   "pygments_lexer": "ipython3",
   "version": "3.9.15"
  },
  "orig_nbformat": 4,
  "vscode": {
   "interpreter": {
    "hash": "42d558469d5250c8da604c7e807a818a2238e94e48b536fde225031058e3d05c"
   }
  }
 },
 "nbformat": 4,
 "nbformat_minor": 2
}
